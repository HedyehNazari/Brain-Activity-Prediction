{
  "nbformat": 4,
  "nbformat_minor": 0,
  "metadata": {
    "colab": {
      "provenance": [],
      "include_colab_link": true
    },
    "kernelspec": {
      "name": "python3",
      "display_name": "Python 3"
    },
    "language_info": {
      "name": "python"
    }
  },
  "cells": [
    {
      "cell_type": "markdown",
      "metadata": {
        "id": "view-in-github",
        "colab_type": "text"
      },
      "source": [
        "<a href=\"https://colab.research.google.com/github/HedyehNazari/Brain-Activity-Prediction/blob/main/Convnet_For_Brain_Activity.ipynb\" target=\"_parent\"><img src=\"https://colab.research.google.com/assets/colab-badge.svg\" alt=\"Open In Colab\"/></a>"
      ]
    },
    {
      "cell_type": "markdown",
      "metadata": {
        "id": "hVqSM9IAm-r_"
      },
      "source": [
        "#setup"
      ]
    },
    {
      "cell_type": "code",
      "metadata": {
        "id": "SzhRR8bDd3oe"
      },
      "source": [
        "import os\n",
        "import numpy as np\n",
        "import matplotlib.pyplot as plt\n",
        "import torch\n",
        "from torch.utils.data import Dataset,DataLoader\n",
        "from torchvision.transforms import ToTensor\n",
        "import torch.nn as nn\n",
        "import torch.optim as optim\n",
        "from google.colab import drive\n"
      ],
      "execution_count": null,
      "outputs": []
    },
    {
      "cell_type": "code",
      "metadata": {
        "id": "uQ1nv_qxgghQ",
        "colab": {
          "base_uri": "https://localhost:8080/"
        },
        "outputId": "2fc32f0c-6961-44a8-ab38-0e83e6c91035"
      },
      "source": [
        "## Colab setting\n",
        "drive.mount('/content/gdrive')\n",
        "%cd gdrive/MyDrive/\n",
        "#%mkdir -p Neuromatch\n",
        "%cd Neuromatch/"
      ],
      "execution_count": null,
      "outputs": [
        {
          "output_type": "stream",
          "text": [
            "Drive already mounted at /content/gdrive; to attempt to forcibly remount, call drive.mount(\"/content/gdrive\", force_remount=True).\n",
            "[Errno 2] No such file or directory: 'gdrive/MyDrive/'\n",
            "/content/gdrive/MyDrive/Neuromatch\n",
            "[Errno 2] No such file or directory: 'Neuromatch/'\n",
            "/content/gdrive/MyDrive/Neuromatch\n"
          ],
          "name": "stdout"
        }
      ]
    },
    {
      "cell_type": "code",
      "metadata": {
        "id": "akTW1-VGGUgz"
      },
      "source": [
        "## Download the dataset\n",
        "fname = \"kay_labels.npy\"\n",
        "if not os.path.exists(fname):\n",
        "  !wget -qO $fname https://osf.io/r638s/download\n",
        "fname = \"kay_labels_val.npy\"\n",
        "if not os.path.exists(fname):\n",
        "  !wget -qO $fname https://osf.io/yqb3e/download\n",
        "fname = \"kay_images.npz\"\n",
        "if not os.path.exists(fname):\n",
        "  !wget -qO $fname https://osf.io/ymnjv/download\n"
      ],
      "execution_count": null,
      "outputs": []
    },
    {
      "cell_type": "code",
      "metadata": {
        "id": "0tL4ohJ1GqYb"
      },
      "source": [
        "## Load the data\n",
        "with np.load(fname) as dobj:\n",
        "    dat = dict(**dobj)\n",
        "labels = np.load('kay_labels.npy')\n",
        "val_labels = np.load('kay_labels_val.npy')"
      ],
      "execution_count": null,
      "outputs": []
    },
    {
      "cell_type": "markdown",
      "metadata": {
        "id": "UZxz11EQcFk1"
      },
      "source": [
        "##configuration\n"
      ]
    },
    {
      "cell_type": "code",
      "metadata": {
        "id": "E3NxMu8uuAAr"
      },
      "source": [
        "config={\n",
        "    'DEVICE' : torch.device('cuda' if torch.cuda.is_available() else 'cpu'),\n",
        "    'TRAIN_SIZE' : 1400,\n",
        "    'epoch' : 100,\n",
        "    'BATCH_SIZE': 16,\n",
        "    'CHECKPOINT': 'checkpoint',\n",
        "    'LOAD_FROM_FILE': True,\n",
        "\n",
        "}\n",
        "\n"
      ],
      "execution_count": null,
      "outputs": []
    },
    {
      "cell_type": "code",
      "metadata": {
        "id": "E9zhwgU2-1il"
      },
      "source": [
        "# Call `set_seed` function in the exercises to ensure reproducibility.\n",
        "import random\n",
        "import torch\n",
        "\n",
        "def set_seed(seed=None, seed_torch=True):\n",
        "  if seed is None:\n",
        "    seed = np.random.choice(2 ** 32)\n",
        "  random.seed(seed)\n",
        "  np.random.seed(seed)\n",
        "  if seed_torch:\n",
        "    torch.manual_seed(seed)\n",
        "    torch.cuda.manual_seed_all(seed)\n",
        "    torch.cuda.manual_seed(seed)\n",
        "    torch.backends.cudnn.benchmark = False\n",
        "    torch.backends.cudnn.deterministic = True\n",
        "\n",
        "  print(f'Random seed {seed} has been set.')\n",
        "\n",
        "\n",
        "# In case that `DataLoader` is used\n",
        "def seed_worker(worker_id):\n",
        "  worker_seed = torch.initial_seed() % 2**32\n",
        "  np.random.seed(worker_seed)\n",
        "  random.seed(worker_seed)\n"
      ],
      "execution_count": null,
      "outputs": []
    },
    {
      "cell_type": "code",
      "metadata": {
        "id": "m9yCDYs9rE5T",
        "colab": {
          "base_uri": "https://localhost:8080/"
        },
        "outputId": "ef875b01-4d64-4d93-ea8b-4ff9f1183448"
      },
      "source": [
        "SEED = 2021\n",
        "set_seed(seed=SEED)\n"
      ],
      "execution_count": null,
      "outputs": [
        {
          "output_type": "stream",
          "text": [
            "Random seed 2021 has been set.\n"
          ],
          "name": "stdout"
        }
      ]
    },
    {
      "cell_type": "markdown",
      "metadata": {
        "id": "QNH3ve3onZKj"
      },
      "source": [
        "## Utility Functions"
      ]
    },
    {
      "cell_type": "code",
      "metadata": {
        "id": "xwKa2JxInayk"
      },
      "source": [
        "def count_errors(y_prediction, y_true, std=1):\n",
        "  return torch.sum(torch.abs(y_prediction - y_true) > std).item()\n",
        "  "
      ],
      "execution_count": null,
      "outputs": []
    },
    {
      "cell_type": "code",
      "metadata": {
        "id": "DTv5aZDZneWu"
      },
      "source": [
        "def correlation(x, y):\n",
        "  vx = x - torch.mean(x)\n",
        "  vy = y - torch.mean(y)\n",
        "  return torch.sum(vx * vy) / (torch.sqrt(torch.sum(vx ** 2)) * torch.sqrt(torch.sum(vy ** 2)))"
      ],
      "execution_count": null,
      "outputs": []
    },
    {
      "cell_type": "code",
      "metadata": {
        "id": "yfAUQUyNnhQe"
      },
      "source": [
        "## Function to save a model and its optimizer to drive\n",
        "def save(name: str, model: nn.Module, optimizer: optim.Optimizer, epoch: int):\n",
        "    torch.save({\n",
        "        'epoch': epoch,\n",
        "        'model_state_dict': model.state_dict(),\n",
        "        'optimizer_state_dict': optimizer.state_dict(),\n",
        "    }, name)"
      ],
      "execution_count": null,
      "outputs": []
    },
    {
      "cell_type": "code",
      "metadata": {
        "id": "fq5eYuhbnoJu"
      },
      "source": [
        "## Function to load a model and its optimizer from drive\n",
        "def load(name: str, model: nn.Module, optimizer: optim.Optimizer):\n",
        "    checkpoint = torch.load(name)\n",
        "    model.load_state_dict(checkpoint['model_state_dict'])\n",
        "    optimizer.load_state_dict(checkpoint['optimizer_state_dict'])\n",
        "\n",
        "    model.train()"
      ],
      "execution_count": null,
      "outputs": []
    },
    {
      "cell_type": "code",
      "metadata": {
        "id": "5tbMeGDfbFDS"
      },
      "source": [
        "def l1_reg(model):\n",
        "  l1 = 0.0\n",
        "  for param in model.parameters():\n",
        "    l1 += torch.sum(torch.abs(param))\n",
        "  return l1\n"
      ],
      "execution_count": null,
      "outputs": []
    },
    {
      "cell_type": "code",
      "metadata": {
        "id": "dVKhpGxCaxIV"
      },
      "source": [
        "def l2_reg(model):\n",
        "  l2 = 0.0\n",
        "  for param in model.parameters():\n",
        "    l2 += torch.sum(torch.abs(param)**2)\n",
        "  return l2"
      ],
      "execution_count": null,
      "outputs": []
    },
    {
      "cell_type": "code",
      "metadata": {
        "id": "n90gEf2qa-fi"
      },
      "source": [
        "def roi_voxels(dat):\n",
        "  v1,v2,v3,v3A,v3B,LatOcc,v4 = [],[],[],[],[],[],[]\n",
        "  for voxel in range(8428):\n",
        "    if dat['roi'][voxel]==1:\n",
        "      v1.append(voxel) \n",
        "    elif dat['roi'][voxel]==2:\n",
        "      v2.append(voxel)\n",
        "    elif dat['roi'][voxel]==3:\n",
        "      v3.append(voxel)\n",
        "    elif dat['roi'][voxel]==4:\n",
        "      v3A.append(voxel)\n",
        "    elif dat['roi'][voxel]==5:\n",
        "      v3B.append(voxel)\n",
        "    elif dat['roi'][voxel]==6:\n",
        "      v4.append(voxel)\n",
        "    elif dat['roi'][voxel]==7:\n",
        "      LatOcc.append(voxel)\n",
        "  voc = np.array([v1,v2,v3,v3A,v3B,LatOcc,v4])\n",
        "  return voc\n",
        "\n",
        "def mean_roi(dat,voc):\n",
        "  v1_mean = np.mean(dat['responses'][:,voc[0]],axis=1)\n",
        "  v2_mean = np.mean(dat['responses'][:,voc[1]],axis=1)\n",
        "  v3_mean = np.mean(dat['responses'][:,voc[2]],axis=1)\n",
        "  v3A_mean = np.mean(dat['responses'][:,voc[3]],axis=1)\n",
        "  v3B_mean = np.mean(dat['responses'][:,voc[4]],axis=1)\n",
        "  v4_mean = np.mean(dat['responses'][:,voc[5]],axis=1)\n",
        "  LatOcc_mean = np.mean(dat['responses'][:,voc[6]],axis=1)\n",
        "  response = np.transpose(np.array([v1_mean,v2_mean,v3_mean,v3A_mean,v3B_mean,v4_mean,LatOcc_mean]))\n",
        "  return response"
      ],
      "execution_count": null,
      "outputs": []
    },
    {
      "cell_type": "markdown",
      "metadata": {
        "id": "nxS35wmZKRUu"
      },
      "source": [
        "##Data"
      ]
    },
    {
      "cell_type": "code",
      "metadata": {
        "id": "PRbIWBiNeXvS"
      },
      "source": [
        "class ImageSignalDataset(Dataset):\n",
        "  def __init__(self, images, signals, image_transform=None, signal_transform=None):\n",
        "    '''\n",
        "      images is a n * 128 * 128 numpy array\n",
        "      signals is a n * 8428 numpy array\n",
        "    '''\n",
        "    self.images = images\n",
        "    self.signals = signals\n",
        "    self.image_transform = image_transform\n",
        "    self.signal_transform = signal_transform\n",
        "    assert images.shape[0] == signals.shape[0]\n",
        "\n",
        "  def __len__(self):\n",
        "    return self.images.shape[0]\n",
        "\n",
        "  ## TODO: signal_transform not working\n",
        "  def __getitem__(self, index):\n",
        "    x = self.image_transform(self.images[index, :, :]) if self.image_transform else self.images[index, :, :]\n",
        "    y = torch.tensor(self.signals[index, :])\n",
        "    # y = self.signal_transform(self.signals[index, :]) if self.signal_transform else self.signals[index, :]\n",
        "    return x, y\n",
        "# print(dat[\"stimuli\"].shape)\n",
        "# print(dat[\"responses\"].shape)\n",
        "#d = ImageSignalDataset(dat[\"stimuli\"],dat[\"responses\"],image_transform=ToTensor())\n",
        "# x,y = d[50]\n",
        "# print(x.shape)\n",
        "# print(y.shape)"
      ],
      "execution_count": null,
      "outputs": []
    },
    {
      "cell_type": "code",
      "metadata": {
        "colab": {
          "base_uri": "https://localhost:8080/"
        },
        "id": "MYznSOOt0K6m",
        "outputId": "1fad0aeb-992e-423b-a016-29dc30db6cd4"
      },
      "source": [
        "print(dat.keys())"
      ],
      "execution_count": null,
      "outputs": [
        {
          "output_type": "stream",
          "text": [
            "dict_keys(['stimuli', 'stimuli_test', 'responses', 'responses_test', 'roi', 'roi_names'])\n"
          ],
          "name": "stdout"
        }
      ]
    },
    {
      "cell_type": "code",
      "metadata": {
        "id": "izfWIkMM1Dpg",
        "colab": {
          "base_uri": "https://localhost:8080/"
        },
        "outputId": "5109cd30-6808-49ee-c006-2de770c65d0e"
      },
      "source": [
        "trainset = ImageSignalDataset(dat['stimuli'][:config['TRAIN_SIZE'], :, :], dat['responses'][:config['TRAIN_SIZE'], :], image_transform = ToTensor(), signal_transform = ToTensor())\n",
        "validationset = ImageSignalDataset(dat['stimuli'][config['TRAIN_SIZE']:, :, :], dat['responses'][config['TRAIN_SIZE']:, :], image_transform = ToTensor(), signal_transform = ToTensor())\n",
        "testset = ImageSignalDataset(dat['stimuli_test'], dat['responses_test'], image_transform = ToTensor(), signal_transform = ToTensor())\n",
        "\n",
        "train_loader = DataLoader(trainset, config['BATCH_SIZE'], shuffle=True)\n",
        "validation_loader = DataLoader(validationset, config['BATCH_SIZE'], shuffle=False)\n",
        "test_loader = DataLoader(testset, config['BATCH_SIZE'], shuffle=False)\n",
        "\n",
        "\n",
        "print(f'trainset contains: {len(trainset)} pairs of image/signals')\n",
        "print(f'valset   contains: {len(validationset)}  pairs of image/signals')\n",
        "print(f'testset  contains: {len(testset)}  pairs of image/signals')\n"
      ],
      "execution_count": null,
      "outputs": [
        {
          "output_type": "stream",
          "text": [
            "trainset contains: 1400 pairs of image/signals\n",
            "valset   contains: 350  pairs of image/signals\n",
            "testset  contains: 120  pairs of image/signals\n"
          ],
          "name": "stdout"
        }
      ]
    },
    {
      "cell_type": "markdown",
      "metadata": {
        "id": "MyrHjYoeoT8V"
      },
      "source": [
        "##CNN model"
      ]
    },
    {
      "cell_type": "code",
      "metadata": {
        "id": "zZ0hLC2ejhhI"
      },
      "source": [
        "class Convnet(nn.Module):\n",
        "   def __init__(self):\n",
        "     super().__init__()\n",
        "     self.conv1 = nn.Conv2d(in_channels=1,out_channels=4, kernel_size=8, stride=2, padding = 0) #4*61*61\n",
        "     self.conv2 = nn.Conv2d(in_channels=4,out_channels=8, kernel_size=8, stride=2, padding = 0) #8*27*27\n",
        "     self.conv3 = nn.Conv2d(in_channels=8,out_channels=16, kernel_size=8, stride=2, padding = 0) #16*10*10\n",
        "     self.bn1  = nn.BatchNorm2d(4)\n",
        "     self.bn2  = nn.BatchNorm2d(8)\n",
        "     self.bn3  = nn.BatchNorm2d(16)\n",
        "     self.drp  = nn.Dropout2d(0.5)    \n",
        "     self.fc1 = nn.Linear(16*10*10,4000)\n",
        "     #self.bn1d  = nn.BatchNorm1d(4000)\n",
        "     self.fc2 = nn.Linear(4000,8428)\n",
        "   def forward(self,x):\n",
        "      x =  self.conv1(x) \n",
        "      x = nn.functional.relu(x)\n",
        "      x =  self.bn1(x)\n",
        "      x = self.drp(x)\n",
        "      #print(x.shape)\n",
        "      x =  self.conv2(x)\n",
        "      x = nn.functional.relu(x)\n",
        "      x = self.bn2(x)\n",
        "      x = self.drp(x)\n",
        "      #print(x.shape)\n",
        "      x =  self.conv3(x) \n",
        "      x = nn.functional.relu(x)\n",
        "      x = self.bn3(x)\n",
        "      #print(x.shape)\n",
        "      x = torch.flatten(x,1)\n",
        "      x = self.fc1(x)\n",
        "      #print(x.shape)\n",
        "      #x =  self.bn1d(x)\n",
        "      x = nn.functional.relu(x)\n",
        "      x = self.fc2(x)\n",
        "      return x\n",
        "# model = Convnet().to(DEVICE)\n",
        "\n",
        "# for batch in train_loader:\n",
        "#   x,y = batch\n",
        "#   x = x.to(DEVICE)\n",
        "#   y = y.to(DEVICE)\n",
        "#   z = c(x)\n",
        "#   print(\"x shape\",x.shape)\n",
        "#   print(\"z shape\",z.shape)\n",
        "#   break"
      ],
      "execution_count": null,
      "outputs": []
    },
    {
      "cell_type": "markdown",
      "metadata": {
        "id": "Yr0oWLabz4sL"
      },
      "source": [
        "## Trainingloop"
      ]
    },
    {
      "cell_type": "code",
      "metadata": {
        "id": "jQGvWBHmosGV"
      },
      "source": [
        "model = Convnet().to(config['DEVICE'])\n",
        "optimizer = optim.Adam(model.parameters(), lr = 0.0001) \n",
        "loss_fn = nn.MSELoss()"
      ],
      "execution_count": null,
      "outputs": []
    },
    {
      "cell_type": "code",
      "metadata": {
        "colab": {
          "base_uri": "https://localhost:8080/"
        },
        "id": "cSWkOJ5LTJ_9",
        "outputId": "839875c3-7b6f-4960-e4a8-24add963cc67"
      },
      "source": [
        "# Load model and optimizer from drive\n",
        "if config['LOAD_FROM_FILE']:\n",
        "  load('checkpoint30.pt', model, optimizer)\n",
        "  print('Model loaded!')"
      ],
      "execution_count": null,
      "outputs": [
        {
          "output_type": "stream",
          "text": [
            "Model loaded!\n"
          ],
          "name": "stdout"
        }
      ]
    },
    {
      "cell_type": "code",
      "metadata": {
        "id": "nj0_-34apqH1"
      },
      "source": [
        "\n",
        "train_losses, val_losses, val_mistake, train_mistake,val_mistake_correlation,train_mistake_correlation  = [],[],[],[],[],[]\n",
        "for epoch in range(config['epoch']):\n",
        "  train_loss_sum = 0\n",
        "  val_loss_sum = 0\n",
        "  val_errors = 0\n",
        "  total_e1 = 0.0\n",
        "  total_e2 = 0.0\n",
        "\n",
        "  model.train()\n",
        "  for batch in train_loader:\n",
        "    x,y = batch\n",
        "    x = x.to(config['DEVICE'])\n",
        "    y = y.float()\n",
        "    y = y.to(config['DEVICE'])\n",
        "    optimizer.zero_grad()\n",
        "    z = model(x)\n",
        "    \n",
        "    outputloss = loss_fn(z, y)\n",
        "    #outputloss += 0.0005 * l1_reg(model)\n",
        "    outputloss += 0.0005* l2_reg(model)\n",
        "    outputloss.backward()\n",
        "    optimizer.step()\n",
        "    train_loss_sum += outputloss.detach().item()\n",
        "    total_e1 += count_errors(z.detach(), y.detach())\n",
        "    total_e2 += correlation(z.detach(), y.detach())\n",
        "    \n",
        "  model.eval()\n",
        "  with torch.no_grad():\n",
        "    totalerror1 = 0\n",
        "    totalerror2 = 0\n",
        "    for batch in validation_loader:\n",
        "      x,y = batch\n",
        "      x = x.to(config['DEVICE'])\n",
        "      y = y.float()\n",
        "      y = y.to(config['DEVICE'])\n",
        "      z = model(x)\n",
        "      outputloss = loss_fn(z, y)\n",
        "      \n",
        "      val_loss_sum += outputloss.detach().item()\n",
        "      totalerror1 += count_errors(z.detach(), y.detach())\n",
        "      totalerror2 += correlation(z.detach(), y.detach())\n",
        "\n",
        "\n",
        "  train_losses.append(train_loss_sum )\n",
        "  val_losses.append(val_loss_sum )\n",
        "  print(f'Epoch {epoch}: Loss = {train_loss_sum}')\n",
        "\n",
        "  #counterror calculation\n",
        "  val_mistake.append(totalerror1 / len(validationset))\n",
        "  train_mistake.append(total_e1 / len(trainset))\n",
        "\n",
        "  #correlation calculation\n",
        "  val_mistake_correlation.append(totalerror2 / len(validationset))\n",
        "  train_mistake_correlation.append(total_e2 / len(trainset))\n",
        " \n",
        "\n",
        "  #every 10 epochs, save the model\n",
        "  if epoch % 10 == 0:\n",
        "    save(config['CHECKPOINT'] + f'{epoch}.pt', model, optimizer, epoch)\n",
        "    print('Model saved!')"
      ],
      "execution_count": null,
      "outputs": []
    },
    {
      "cell_type": "code",
      "metadata": {
        "colab": {
          "base_uri": "https://localhost:8080/",
          "height": 231
        },
        "id": "UHb4ani7vdzW",
        "outputId": "6d82c24a-1ec1-4b2c-afa4-91c30b43f924"
      },
      "source": [
        "print(\"train_losses:\",train_losses)\n",
        "print(\"val_losses:  \",val_losses)\n",
        "print(min(val_losses), np.argmin(val_losses))\n",
        "print(\"val_mistake:     \",val_mistake)\n",
        "print(\"train_mistake:   \",train_mistake)\n",
        "print(\"train_mistake_correlation:     \",train_mistake_correlation)\n",
        "print(\"val_mistake_correlation:   \",val_mistake_correlation)"
      ],
      "execution_count": null,
      "outputs": [
        {
          "output_type": "error",
          "ename": "NameError",
          "evalue": "ignored",
          "traceback": [
            "\u001b[0;31m---------------------------------------------------------------------------\u001b[0m",
            "\u001b[0;31mNameError\u001b[0m                                 Traceback (most recent call last)",
            "\u001b[0;32m<ipython-input-38-d39d45836aa7>\u001b[0m in \u001b[0;36m<module>\u001b[0;34m()\u001b[0m\n\u001b[0;32m----> 1\u001b[0;31m \u001b[0mprint\u001b[0m\u001b[0;34m(\u001b[0m\u001b[0;34m\"train_losses:\"\u001b[0m\u001b[0;34m,\u001b[0m\u001b[0mtrain_losses\u001b[0m\u001b[0;34m)\u001b[0m\u001b[0;34m\u001b[0m\u001b[0;34m\u001b[0m\u001b[0m\n\u001b[0m\u001b[1;32m      2\u001b[0m \u001b[0mprint\u001b[0m\u001b[0;34m(\u001b[0m\u001b[0;34m\"val_losses:  \"\u001b[0m\u001b[0;34m,\u001b[0m\u001b[0mval_losses\u001b[0m\u001b[0;34m)\u001b[0m\u001b[0;34m\u001b[0m\u001b[0;34m\u001b[0m\u001b[0m\n\u001b[1;32m      3\u001b[0m \u001b[0mprint\u001b[0m\u001b[0;34m(\u001b[0m\u001b[0mmin\u001b[0m\u001b[0;34m(\u001b[0m\u001b[0mval_losses\u001b[0m\u001b[0;34m)\u001b[0m\u001b[0;34m,\u001b[0m \u001b[0mnp\u001b[0m\u001b[0;34m.\u001b[0m\u001b[0margmin\u001b[0m\u001b[0;34m(\u001b[0m\u001b[0mval_losses\u001b[0m\u001b[0;34m)\u001b[0m\u001b[0;34m)\u001b[0m\u001b[0;34m\u001b[0m\u001b[0;34m\u001b[0m\u001b[0m\n\u001b[1;32m      4\u001b[0m \u001b[0mprint\u001b[0m\u001b[0;34m(\u001b[0m\u001b[0;34m\"val_mistake:     \"\u001b[0m\u001b[0;34m,\u001b[0m\u001b[0mval_mistake\u001b[0m\u001b[0;34m)\u001b[0m\u001b[0;34m\u001b[0m\u001b[0;34m\u001b[0m\u001b[0m\n\u001b[1;32m      5\u001b[0m \u001b[0mprint\u001b[0m\u001b[0;34m(\u001b[0m\u001b[0;34m\"train_mistake:   \"\u001b[0m\u001b[0;34m,\u001b[0m\u001b[0mtrain_mistake\u001b[0m\u001b[0;34m)\u001b[0m\u001b[0;34m\u001b[0m\u001b[0;34m\u001b[0m\u001b[0m\n",
            "\u001b[0;31mNameError\u001b[0m: name 'train_losses' is not defined"
          ]
        }
      ]
    },
    {
      "cell_type": "code",
      "metadata": {
        "colab": {
          "base_uri": "https://localhost:8080/",
          "height": 231
        },
        "id": "TBC81EjAA5fv",
        "outputId": "65ade3bf-754e-4280-d53b-b1e0d604b607"
      },
      "source": [
        "\n",
        "plt.plot(np.arange(len(train_losses)), train_losses, 'r')\n",
        "plt.xlabel('Epoch')\n",
        "plt.ylabel('Train Loss')\n",
        "plt.savefig(\"Train Loss\", dpi=300, format='JPEG')\n",
        "plt.show()\n",
        "\n",
        "plt.plot(np.arange(len(val_losses)), val_losses, 'b')\n",
        "plt.xlabel('Epoch')\n",
        "plt.savefig(\"Val Loss\", dpi=300, format='JPEG')\n",
        "plt.ylabel('Val Loss')\n",
        "plt.show()\n",
        "\n",
        "plt.plot(np.arange(len(train_mistake)), train_mistake, 'r')\n",
        "plt.xlabel('Epoch')\n",
        "plt.ylabel('Train Mistake')\n",
        "plt.savefig(\"Train Mistake\", dpi=300, format='JPEG')\n",
        "plt.show()\n",
        "\n",
        "plt.plot(np.arange(len(val_mistake)), val_mistake, 'b')\n",
        "plt.xlabel('Epoch')\n",
        "plt.ylabel('Val Mistake')\n",
        "plt.savefig(\"Val Mistake\", dpi=300, format='JPEG')\n",
        "plt.show()\n",
        "\n",
        "plt.plot(np.arange(len(train_mistake_correlation)), train_mistake_correlation, 'r')\n",
        "plt.xlabel('Epoch')\n",
        "plt.ylabel('Train Mistake Correlation')\n",
        "plt.savefig(\"Train Mistake Correlation\", dpi=300, format='JPEG')\n",
        "plt.show()\n",
        "\n",
        "plt.plot(np.arange(len(val_mistake_correlation)), val_mistake_correlation, 'b')\n",
        "plt.xlabel('Epoch')\n",
        "plt.ylabel('Val Mistake Correlation')\n",
        "plt.savefig(\"Val Mistake Correlation\", dpi=300, format='JPEG')\n",
        "plt.show()\n",
        "\n",
        "\n",
        "\n"
      ],
      "execution_count": null,
      "outputs": [
        {
          "output_type": "error",
          "ename": "NameError",
          "evalue": "ignored",
          "traceback": [
            "\u001b[0;31m---------------------------------------------------------------------------\u001b[0m",
            "\u001b[0;31mNameError\u001b[0m                                 Traceback (most recent call last)",
            "\u001b[0;32m<ipython-input-39-f0f689b72d7c>\u001b[0m in \u001b[0;36m<module>\u001b[0;34m()\u001b[0m\n\u001b[1;32m      1\u001b[0m \u001b[0;34m\u001b[0m\u001b[0m\n\u001b[0;32m----> 2\u001b[0;31m \u001b[0mplt\u001b[0m\u001b[0;34m.\u001b[0m\u001b[0mplot\u001b[0m\u001b[0;34m(\u001b[0m\u001b[0mnp\u001b[0m\u001b[0;34m.\u001b[0m\u001b[0marange\u001b[0m\u001b[0;34m(\u001b[0m\u001b[0mlen\u001b[0m\u001b[0;34m(\u001b[0m\u001b[0mtrain_losses\u001b[0m\u001b[0;34m)\u001b[0m\u001b[0;34m)\u001b[0m\u001b[0;34m,\u001b[0m \u001b[0mtrain_losses\u001b[0m\u001b[0;34m,\u001b[0m \u001b[0;34m'r'\u001b[0m\u001b[0;34m)\u001b[0m\u001b[0;34m\u001b[0m\u001b[0;34m\u001b[0m\u001b[0m\n\u001b[0m\u001b[1;32m      3\u001b[0m \u001b[0mplt\u001b[0m\u001b[0;34m.\u001b[0m\u001b[0mxlabel\u001b[0m\u001b[0;34m(\u001b[0m\u001b[0;34m'Epoch'\u001b[0m\u001b[0;34m)\u001b[0m\u001b[0;34m\u001b[0m\u001b[0;34m\u001b[0m\u001b[0m\n\u001b[1;32m      4\u001b[0m \u001b[0mplt\u001b[0m\u001b[0;34m.\u001b[0m\u001b[0mylabel\u001b[0m\u001b[0;34m(\u001b[0m\u001b[0;34m'Train Loss'\u001b[0m\u001b[0;34m)\u001b[0m\u001b[0;34m\u001b[0m\u001b[0;34m\u001b[0m\u001b[0m\n\u001b[1;32m      5\u001b[0m \u001b[0mplt\u001b[0m\u001b[0;34m.\u001b[0m\u001b[0msavefig\u001b[0m\u001b[0;34m(\u001b[0m\u001b[0;34m\"Train Loss\"\u001b[0m\u001b[0;34m,\u001b[0m \u001b[0mdpi\u001b[0m\u001b[0;34m=\u001b[0m\u001b[0;36m300\u001b[0m\u001b[0;34m,\u001b[0m \u001b[0mformat\u001b[0m\u001b[0;34m=\u001b[0m\u001b[0;34m'JPEG'\u001b[0m\u001b[0;34m)\u001b[0m\u001b[0;34m\u001b[0m\u001b[0;34m\u001b[0m\u001b[0m\n",
            "\u001b[0;31mNameError\u001b[0m: name 'train_losses' is not defined"
          ]
        }
      ]
    },
    {
      "cell_type": "code",
      "metadata": {
        "id": "R3ZikycgDXk0",
        "colab": {
          "base_uri": "https://localhost:8080/",
          "height": 265
        },
        "outputId": "47943628-5f0b-4646-bbde-8f9ebd82918f"
      },
      "source": [
        "plt.plot(np.arange(len(train_losses)), np.array(train_losses)/len(trainset), 'r')\n",
        "plt.plot(np.arange(len(val_losses)), np.array(val_losses)/len(validationset), 'b')\n",
        "plt.show()"
      ],
      "execution_count": null,
      "outputs": [
        {
          "output_type": "display_data",
          "data": {
            "image/png": "[encoded data removed]",
            "text/plain": [
              "<Figure size 432x288 with 1 Axes>"
            ]
          },
          "metadata": {
            "needs_background": "light"
          }
        }
      ]
    },
    {
      "cell_type": "code",
      "metadata": {
        "id": "ShdLS7Hmu7u0"
      },
      "source": [
        "# evaluation 1\n",
        "# batch_normalization 1\n",
        "# dropout  befor or after relu 0\n",
        "# ploting\n",
        "#hyperparameters\n",
        "#correlation"
      ],
      "execution_count": null,
      "outputs": []
    },
    {
      "cell_type": "code",
      "metadata": {
        "colab": {
          "base_uri": "https://localhost:8080/"
        },
        "id": "h731NJKSTmut",
        "outputId": "b4b51005-abf5-48e1-e6c7-3fa5d97fb793"
      },
      "source": [
        "model.eval()\n",
        "with torch.no_grad():\n",
        "  total, V1_total_val_mistakes, V2_total_val_mistakes, V3_total_val_mistakes, V4_total_val_mistakes, V7_total_val_mistakes = 0, 0, 0, 0, 0, 0\n",
        "  for images, labels in validation_loader:\n",
        "    images = images.to(config['DEVICE'])\n",
        "    labels = labels.to(config['DEVICE']).float()\n",
        "    # images = ae_model.enc5(ae_model.enc4(ae_model.enc3(ae_model.enc2(ae_model.enc1(images)))))\n",
        "    # features = torch.flatten(images, 1).detach()\n",
        "\n",
        "    predictions = model(images)\n",
        "\n",
        "    v1_predictions = predictions [:, dat['roi'] == 1]\n",
        "    v1_labels = labels [:, dat['roi'] == 1]\n",
        "\n",
        "    v2_predictions = predictions [:, dat['roi'] == 2]\n",
        "    v2_labels = labels [:, dat['roi'] == 2]\n",
        "\n",
        "    v3_predictions = predictions [:, dat['roi'] == 3]\n",
        "    v3_labels = labels [:, dat['roi'] == 3]\n",
        "\n",
        "    v4_predictions = predictions [:, dat['roi'] == 6]\n",
        "    v4_labels = labels [:, dat['roi'] == 6]\n",
        "\n",
        "    v7_predictions = predictions [:, dat['roi'] == 7]\n",
        "    v7_labels = labels [:, dat['roi'] == 7]\n",
        "\n",
        "    # print(v1_labels.shape, v2_labels.shape, v3_labels.shape, v4_labels.shape)\n",
        "    # break\n",
        "    \n",
        "    V1_total_val_mistakes += count_errors(v1_labels, v1_predictions)\n",
        "    V2_total_val_mistakes += count_errors(v2_labels, v2_predictions)\n",
        "    V3_total_val_mistakes += count_errors(v3_labels, v3_predictions)\n",
        "    V4_total_val_mistakes += count_errors(v4_labels, v4_predictions)\n",
        "    V7_total_val_mistakes += count_errors(v7_labels, v7_predictions)\n",
        "    total += count_errors(labels, predictions)\n",
        "\n",
        "print(f'V1 prediction accuracy is {1 - (V1_total_val_mistakes/ len(validationset) / 1294)}')\n",
        "print(f'V2 prediction accuracy is {1 - (V2_total_val_mistakes/ len(validationset) / 2083)}')\n",
        "print(f'V3 prediction accuracy is {1 - (V3_total_val_mistakes/ len(validationset) / 1790)}')\n",
        "print(f'V4 prediction accuracy is {1 - (V4_total_val_mistakes/ len(validationset) / 1535)}')\n",
        "print(f'V7 prediction accuracy is {1 - (V7_total_val_mistakes/ len(validationset) / 928)}')\n",
        "print(f'Total prediction accuracy is {1 - (total/ len(validationset) / 8428)}')"
      ],
      "execution_count": null,
      "outputs": [
        {
          "output_type": "stream",
          "text": [
            "V1 prediction accuracy is 0.6901192316184588\n",
            "V2 prediction accuracy is 0.6911514985254783\n",
            "V3 prediction accuracy is 0.6894924181963288\n",
            "V4 prediction accuracy is 0.6876240111679851\n",
            "V7 prediction accuracy is 0.6860283251231527\n",
            "Total prediction accuracy is 0.689140958709065\n"
          ],
          "name": "stdout"
        }
      ]
    },
    {
      "cell_type": "code",
      "metadata": {
        "colab": {
          "base_uri": "https://localhost:8080/"
        },
        "id": "7kTnmSe1nCAa",
        "outputId": "ab1fe9ff-9a0f-4323-d09a-bc20b86f95ae"
      },
      "source": [
        "model.eval()\n",
        "with torch.no_grad():\n",
        "  total, V1_total_val_mistakes, V2_total_val_mistakes, V3_total_val_mistakes, V4_total_val_mistakes, V7_total_val_mistakes = 0, 0, 0, 0, 0, 0\n",
        "  for images, labels in test_loader:\n",
        "    images = images.to(config['DEVICE'])\n",
        "    labels = labels.to(config['DEVICE']).float()\n",
        "    # images = ae_model.enc5(ae_model.enc4(ae_model.enc3(ae_model.enc2(ae_model.enc1(images)))))\n",
        "    # features = torch.flatten(images, 1).detach()\n",
        "\n",
        "    predictions = model(images)\n",
        "\n",
        "    v1_predictions = predictions [:, dat['roi'] == 1]\n",
        "    v1_labels = labels [:, dat['roi'] == 1]\n",
        "\n",
        "    v2_predictions = predictions [:, dat['roi'] == 2]\n",
        "    v2_labels = labels [:, dat['roi'] == 2]\n",
        "\n",
        "    v3_predictions = predictions [:, dat['roi'] == 3]\n",
        "    v3_labels = labels [:, dat['roi'] == 3]\n",
        "\n",
        "    v4_predictions = predictions [:, dat['roi'] == 6]\n",
        "    v4_labels = labels [:, dat['roi'] == 6]\n",
        "\n",
        "    v7_predictions = predictions [:, dat['roi'] == 7]\n",
        "    v7_labels = labels [:, dat['roi'] == 7]\n",
        "\n",
        "    # print(v1_labels.shape, v2_labels.shape, v3_labels.shape, v4_labels.shape)\n",
        "    # break\n",
        "    \n",
        "    V1_total_val_mistakes += count_errors(v1_labels, v1_predictions)\n",
        "    V2_total_val_mistakes += count_errors(v2_labels, v2_predictions)\n",
        "    V3_total_val_mistakes += count_errors(v3_labels, v3_predictions)\n",
        "    V4_total_val_mistakes += count_errors(v4_labels, v4_predictions)\n",
        "    V7_total_val_mistakes += count_errors(v7_labels, v7_predictions)\n",
        "    total += count_errors(labels, predictions)\n",
        "\n",
        "print(f'V1 prediction accuracy is {1 - (V1_total_val_mistakes/ len(test_loader) / 1294)}')\n",
        "print(f'V2 prediction accuracy is {1 - (V2_total_val_mistakes/ len(test_loader) / 2083)}')\n",
        "print(f'V3 prediction accuracy is {1 - (V3_total_val_mistakes/ len(test_loader) / 1790)}')\n",
        "print(f'V4 prediction accuracy is {1 - (V4_total_val_mistakes/ len(test_loader) / 1535)}')\n",
        "print(f'V7 prediction accuracy is {1 - (V7_total_val_mistakes/ len(test_loader) / 928)}')\n",
        "print(f'Total prediction accuracy is {1 - (total/ len(test_loader) / 8428)}')"
      ],
      "execution_count": null,
      "outputs": [
        {
          "output_type": "stream",
          "text": [
            "V1 prediction accuracy is 0.1655718701700154\n",
            "V2 prediction accuracy is 0.1899303888622179\n",
            "V3 prediction accuracy is 0.35342178770949717\n",
            "V4 prediction accuracy is 0.3690553745928339\n",
            "V7 prediction accuracy is 0.32610452586206895\n",
            "Total prediction accuracy is 0.28595158993830094\n"
          ],
          "name": "stdout"
        }
      ]
    }
  ]
}